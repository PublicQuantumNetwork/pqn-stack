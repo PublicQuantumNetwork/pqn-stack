{
 "cells": [
  {
   "cell_type": "markdown",
   "id": "acb2b8944a724644",
   "metadata": {},
   "source": [
    "# Testing ground for driver development\n",
    "\n",
    "This notebook serves as a playing ground to develop drivers. It is based on a dummy driver that should emulate a real device, with an emulated networking aspect as well. Throughout the notebook any red text followed by a code block means that it is either a missing feature or something that should be changed.\n",
    "\n",
    "## Imports\n"
   ]
  },
  {
   "cell_type": "code",
   "execution_count": 7,
   "id": "39324a1cfb450557",
   "metadata": {
    "jupyter": {
     "is_executing": true
    }
   },
   "outputs": [],
   "source": [
    "from dummies.dummy_instruments import DummyDriver\n",
    "\n",
    "import logging\n",
    "\n",
    "# Add this near the top of your file, after the import statements\n",
    "logging.basicConfig(level=logging.INFO, format='%(asctime)s - %(name)s - %(levelname)s - %(message)s')\n",
    "\n",
    "# Your existing logger definition\n",
    "logger = logging.getLogger(__name__)"
   ]
  },
  {
   "cell_type": "markdown",
   "id": "d4e2420c-c335-43eb-9e39-d63799c81580",
   "metadata": {},
   "source": [
    "## Instantiating: \n",
    "\n",
    "\n",
    "<span style=\"color:red\">Having the init accept `specs` means that when you are instantiating a driver, you don't know what it is that you need. While most times drivers will be instantiated from a config file, the specific traceback of what it needs is helpful to have. As well as for testing </span>"
   ]
  },
  {
   "cell_type": "code",
   "execution_count": 8,
   "id": "8a6ed410fe6f3aba",
   "metadata": {},
   "outputs": [
    {
     "ename": "TypeError",
     "evalue": "DummyDriver.__init__() missing 1 required positional argument: 'specs'",
     "output_type": "error",
     "traceback": [
      "\u001b[0;31m---------------------------------------------------------------------------\u001b[0m",
      "\u001b[0;31mTypeError\u001b[0m                                 Traceback (most recent call last)",
      "Cell \u001b[0;32mIn[8], line 1\u001b[0m\n\u001b[0;32m----> 1\u001b[0m dummy \u001b[38;5;241m=\u001b[39m \u001b[43mDummyDriver\u001b[49m\u001b[43m(\u001b[49m\u001b[43m)\u001b[49m\n",
      "\u001b[0;31mTypeError\u001b[0m: DummyDriver.__init__() missing 1 required positional argument: 'specs'"
     ]
    }
   ],
   "source": [
    "dummy = DummyDriver()"
   ]
  },
  {
   "cell_type": "markdown",
   "id": "39f6bbf3-c536-4f06-8f08-4b5a27d4a02b",
   "metadata": {},
   "source": [
    "<span style=\"color:red\">I understand that a provides might be helpful for validation. I have a feeling that this is a roadblock. Drivers get used way more by other members of the lab, than the person actually writing the software, they will want to use a driver without knowing the exact capibilities of a driver and I don't think that is a bad thing perse.</span>\n",
    "\n",
    "<span style=\"color:red\">If we automate this by say, keeping the `__` prefix before every method that indicates an action that should be taken through the exec function, it could be a nice middle ground</span>"
   ]
  },
  {
   "cell_type": "code",
   "execution_count": 9,
   "id": "4ecf64e6-394d-423f-9810-a5b9a84fa770",
   "metadata": {},
   "outputs": [
    {
     "ename": "KeyError",
     "evalue": "'provides'",
     "output_type": "error",
     "traceback": [
      "\u001b[0;31m---------------------------------------------------------------------------\u001b[0m",
      "\u001b[0;31mKeyError\u001b[0m                                  Traceback (most recent call last)",
      "Cell \u001b[0;32mIn[9], line 1\u001b[0m\n\u001b[0;32m----> 1\u001b[0m dummy \u001b[38;5;241m=\u001b[39m \u001b[43mDummyDriver\u001b[49m\u001b[43m(\u001b[49m\u001b[43mspecs\u001b[49m\u001b[38;5;241;43m=\u001b[39;49m\u001b[38;5;28;43mdict\u001b[39;49m\u001b[43m(\u001b[49m\u001b[43mname\u001b[49m\u001b[38;5;241;43m=\u001b[39;49m\u001b[38;5;124;43m\"\u001b[39;49m\u001b[38;5;124;43mdummy\u001b[39;49m\u001b[38;5;124;43m\"\u001b[39;49m\u001b[43m,\u001b[49m\u001b[43m \u001b[49m\u001b[43mdesc\u001b[49m\u001b[38;5;241;43m=\u001b[39;49m\u001b[38;5;124;43m\"\u001b[39;49m\u001b[38;5;124;43mThis is a dummy driver\u001b[39;49m\u001b[38;5;124;43m\"\u001b[39;49m\u001b[43m,\u001b[49m\u001b[43m \u001b[49m\u001b[43maddress\u001b[49m\u001b[38;5;241;43m=\u001b[39;49m\u001b[38;5;124;43m\"\u001b[39;49m\u001b[38;5;124;43mdummy_address\u001b[39;49m\u001b[38;5;124;43m\"\u001b[39;49m\u001b[43m)\u001b[49m\u001b[43m)\u001b[49m\n",
      "File \u001b[0;32m~/Documents/github/pqn-stack/tests/dummies/dummy_instruments.py:86\u001b[0m, in \u001b[0;36mDummyDriver.__init__\u001b[0;34m(self, specs)\u001b[0m\n\u001b[1;32m     84\u001b[0m \u001b[38;5;66;03m# FIXME: Once the basic driver accepts individual arguments, we can simply pass dtype\u001b[39;00m\n\u001b[1;32m     85\u001b[0m specs[\u001b[38;5;124m\"\u001b[39m\u001b[38;5;124mdtype\u001b[39m\u001b[38;5;124m\"\u001b[39m] \u001b[38;5;241m=\u001b[39m DeviceClass\u001b[38;5;241m.\u001b[39mTESTING\n\u001b[0;32m---> 86\u001b[0m \u001b[38;5;28;43msuper\u001b[39;49m\u001b[43m(\u001b[49m\u001b[43m)\u001b[49m\u001b[38;5;241;43m.\u001b[39;49m\u001b[38;5;21;43m__init__\u001b[39;49m\u001b[43m(\u001b[49m\u001b[43mspecs\u001b[49m\u001b[43m)\u001b[49m\n",
      "File \u001b[0;32m~/Documents/github/pqn-stack/src/pqnstack/base/driver.py:78\u001b[0m, in \u001b[0;36mDeviceDriver.__init__\u001b[0;34m(self, specs)\u001b[0m\n\u001b[1;32m     75\u001b[0m \u001b[38;5;28mself\u001b[39m\u001b[38;5;241m.\u001b[39mstatus \u001b[38;5;241m=\u001b[39m DeviceStatus\u001b[38;5;241m.\u001b[39mNOINIT\n\u001b[1;32m     77\u001b[0m \u001b[38;5;66;03m# Executable functionalities\u001b[39;00m\n\u001b[0;32m---> 78\u001b[0m \u001b[38;5;28mself\u001b[39m\u001b[38;5;241m.\u001b[39mprovides \u001b[38;5;241m=\u001b[39m \u001b[43mspecs\u001b[49m\u001b[43m[\u001b[49m\u001b[38;5;124;43m\"\u001b[39;49m\u001b[38;5;124;43mprovides\u001b[39;49m\u001b[38;5;124;43m\"\u001b[39;49m\u001b[43m]\u001b[49m\n\u001b[1;32m     79\u001b[0m \u001b[38;5;28mself\u001b[39m\u001b[38;5;241m.\u001b[39mexecutable: \u001b[38;5;28mdict\u001b[39m[\u001b[38;5;28mstr\u001b[39m, Callable] \u001b[38;5;241m=\u001b[39m {}\n\u001b[1;32m     81\u001b[0m \u001b[38;5;66;03m# Tunable device parameters across multiple experiments\u001b[39;00m\n",
      "\u001b[0;31mKeyError\u001b[0m: 'provides'"
     ]
    }
   ],
   "source": [
    "dummy = DummyDriver(specs=dict(name=\"dummy\", desc=\"This is a dummy driver\", address=\"dummy_address\"))"
   ]
  },
  {
   "cell_type": "markdown",
   "id": "43ca7b31-7f5e-466b-850c-85d5ff79d909",
   "metadata": {
    "jupyter": {
     "is_executing": true
    }
   },
   "source": [
    "<span style=\"color:red\">Same with params. This should be something that is built into the driver itself. If we have very complicated params it might be too much for every time we are instantiating a new driver, writing every single param.\n",
    "\n",
    "Params should probably have a getter and setter that checks with the real hardware every time we need it. Previous existing drivers, store the value in a class variable but this break the _single source of truth_ philosphy </span>\n",
    "\n"
   ]
  },
  {
   "cell_type": "code",
   "execution_count": 10,
   "id": "a89b79a0-e22d-4b47-9342-fcd66fe4f8d8",
   "metadata": {},
   "outputs": [
    {
     "name": "stdout",
     "output_type": "stream",
     "text": [
      "dtype set by driver itself, argument will be ignored.\n"
     ]
    },
    {
     "ename": "KeyError",
     "evalue": "'params'",
     "output_type": "error",
     "traceback": [
      "\u001b[0;31m---------------------------------------------------------------------------\u001b[0m",
      "\u001b[0;31mKeyError\u001b[0m                                  Traceback (most recent call last)",
      "Cell \u001b[0;32mIn[10], line 1\u001b[0m\n\u001b[0;32m----> 1\u001b[0m dummy \u001b[38;5;241m=\u001b[39m \u001b[43mDummyDriver\u001b[49m\u001b[43m(\u001b[49m\u001b[43mspecs\u001b[49m\u001b[38;5;241;43m=\u001b[39;49m\u001b[38;5;28;43mdict\u001b[39;49m\u001b[43m(\u001b[49m\u001b[43mname\u001b[49m\u001b[38;5;241;43m=\u001b[39;49m\u001b[38;5;124;43m\"\u001b[39;49m\u001b[38;5;124;43mdummy\u001b[39;49m\u001b[38;5;124;43m\"\u001b[39;49m\u001b[43m,\u001b[49m\n\u001b[1;32m      2\u001b[0m \u001b[43m                               \u001b[49m\u001b[43mdesc\u001b[49m\u001b[38;5;241;43m=\u001b[39;49m\u001b[38;5;124;43m\"\u001b[39;49m\u001b[38;5;124;43mThis is a dummy driver\u001b[39;49m\u001b[38;5;124;43m\"\u001b[39;49m\u001b[43m,\u001b[49m\n\u001b[1;32m      3\u001b[0m \u001b[43m                               \u001b[49m\u001b[43mdtype\u001b[49m\u001b[38;5;241;43m=\u001b[39;49m\u001b[38;5;124;43m\"\u001b[39;49m\u001b[38;5;124;43mTESTING\u001b[39;49m\u001b[38;5;124;43m\"\u001b[39;49m\u001b[43m,\u001b[49m\n\u001b[1;32m      4\u001b[0m \u001b[43m                               \u001b[49m\u001b[43maddress\u001b[49m\u001b[38;5;241;43m=\u001b[39;49m\u001b[38;5;124;43m\"\u001b[39;49m\u001b[38;5;124;43mdummy_address\u001b[39;49m\u001b[38;5;124;43m\"\u001b[39;49m\u001b[43m,\u001b[49m\n\u001b[1;32m      5\u001b[0m \u001b[43m                               \u001b[49m\u001b[43mprovides\u001b[49m\u001b[38;5;241;43m=\u001b[39;49m\u001b[38;5;124;43m\"\u001b[39;49m\u001b[38;5;124;43m__feed_cookie_monster\u001b[39;49m\u001b[38;5;124;43m\"\u001b[39;49m\u001b[43m)\u001b[49m\u001b[43m)\u001b[49m\n",
      "File \u001b[0;32m~/Documents/github/pqn-stack/tests/dummies/dummy_instruments.py:86\u001b[0m, in \u001b[0;36mDummyDriver.__init__\u001b[0;34m(self, specs)\u001b[0m\n\u001b[1;32m     84\u001b[0m \u001b[38;5;66;03m# FIXME: Once the basic driver accepts individual arguments, we can simply pass dtype\u001b[39;00m\n\u001b[1;32m     85\u001b[0m specs[\u001b[38;5;124m\"\u001b[39m\u001b[38;5;124mdtype\u001b[39m\u001b[38;5;124m\"\u001b[39m] \u001b[38;5;241m=\u001b[39m DeviceClass\u001b[38;5;241m.\u001b[39mTESTING\n\u001b[0;32m---> 86\u001b[0m \u001b[38;5;28;43msuper\u001b[39;49m\u001b[43m(\u001b[49m\u001b[43m)\u001b[49m\u001b[38;5;241;43m.\u001b[39;49m\u001b[38;5;21;43m__init__\u001b[39;49m\u001b[43m(\u001b[49m\u001b[43mspecs\u001b[49m\u001b[43m)\u001b[49m\n",
      "File \u001b[0;32m~/Documents/github/pqn-stack/src/pqnstack/base/driver.py:82\u001b[0m, in \u001b[0;36mDeviceDriver.__init__\u001b[0;34m(self, specs)\u001b[0m\n\u001b[1;32m     79\u001b[0m \u001b[38;5;28mself\u001b[39m\u001b[38;5;241m.\u001b[39mexecutable: \u001b[38;5;28mdict\u001b[39m[\u001b[38;5;28mstr\u001b[39m, Callable] \u001b[38;5;241m=\u001b[39m {}\n\u001b[1;32m     81\u001b[0m \u001b[38;5;66;03m# Tunable device parameters across multiple experiments\u001b[39;00m\n\u001b[0;32m---> 82\u001b[0m \u001b[38;5;28mself\u001b[39m\u001b[38;5;241m.\u001b[39mparams \u001b[38;5;241m=\u001b[39m \u001b[43mspecs\u001b[49m\u001b[43m[\u001b[49m\u001b[38;5;124;43m\"\u001b[39;49m\u001b[38;5;124;43mparams\u001b[39;49m\u001b[38;5;124;43m\"\u001b[39;49m\u001b[43m]\u001b[49m\n\u001b[1;32m     84\u001b[0m \u001b[38;5;66;03m# Call the available implementation of `setup`\u001b[39;00m\n\u001b[1;32m     85\u001b[0m \u001b[38;5;28mself\u001b[39m\u001b[38;5;241m.\u001b[39msetup(specs)\n",
      "\u001b[0;31mKeyError\u001b[0m: 'params'"
     ]
    }
   ],
   "source": [
    "dummy = DummyDriver(specs=dict(name=\"dummy\",\n",
    "                               desc=\"This is a dummy driver\",\n",
    "                               dtype=\"TESTING\",\n",
    "                               address=\"dummy_address\",\n",
    "                               provides=\"__feed_cookie_monster\"))"
   ]
  },
  {
   "cell_type": "markdown",
   "id": "cdefdb66-e1d3-44d6-b99e-3f389747d4f7",
   "metadata": {},
   "source": [
    " `dtype` should probably be hardcoded into each driver as the first thing in their init. I don't think users should be able to change this from node to node."
   ]
  },
  {
   "cell_type": "code",
   "execution_count": 11,
   "id": "4da09979bbb3c2ca",
   "metadata": {},
   "outputs": [
    {
     "name": "stdout",
     "output_type": "stream",
     "text": [
      "dtype set by driver itself, argument will be ignored.\n"
     ]
    }
   ],
   "source": [
    "dummy = DummyDriver(specs=dict(name=\"dummy\",\n",
    "                               desc=\"This is a dummy driver\",\n",
    "                               dtype=\"TESTING\",\n",
    "                               address=\"dummy_address\",\n",
    "                               provides=\"__feed_cookie_monster\",\n",
    "                               params=[\"dummy_int\", \"dummy_str\", \"dummy_bool\"]))"
   ]
  },
  {
   "cell_type": "code",
   "execution_count": null,
   "id": "b9aa5aa96caa4018",
   "metadata": {},
   "outputs": [],
   "source": []
  },
  {
   "cell_type": "code",
   "execution_count": null,
   "id": "f567fd84-5d03-4d62-a898-fdbae108c4e5",
   "metadata": {},
   "outputs": [],
   "source": []
  },
  {
   "cell_type": "code",
   "execution_count": 12,
   "id": "b7d52018-7e0f-41e9-90ff-0e3610a3556d",
   "metadata": {},
   "outputs": [
    {
     "name": "stdout",
     "output_type": "stream",
     "text": [
      "param: <function DummyDriver.__feed_cookie_monster at 0x107dd9e40>\n",
      "param: frozenset()\n",
      "param: <class 'abc.ABCMeta'>\n",
      "param: <slot wrapper '__delattr__' of 'object' objects>\n",
      "param: {'__module__': 'dummies.dummy_instruments', '__init__': <function DummyDriver.__init__ at 0x107dd9940>, 'setup': <function DummyDriver.setup at 0x107dd99e0>, 'dummy_int': <pqnstack.base.driver.Parameter object at 0x107df01d0>, 'dummy_str': <pqnstack.base.driver.Parameter object at 0x107df0230>, 'dummy_bool': <pqnstack.base.driver.Parameter object at 0x107df0290>, '_DummyDriver__feed_cookie_monster': <function DummyDriver.__feed_cookie_monster at 0x107dd9e40>, 'exec': <function DummyDriver.exec at 0x107dd9ee0>, 'info': <function DummyDriver.info at 0x107dd9f80>, 'close': <function DummyDriver.close at 0x107dda020>, '__doc__': None, '__abstractmethods__': frozenset(), '_abc_impl': <_abc._abc_data object at 0x107def500>}\n",
      "param: <method '__dir__' of 'object' objects>\n",
      "param: None\n",
      "param: <slot wrapper '__eq__' of 'object' objects>\n",
      "param: <method '__format__' of 'object' objects>\n",
      "param: <slot wrapper '__ge__' of 'object' objects>\n",
      "param: <slot wrapper '__getattribute__' of 'object' objects>\n",
      "param: <method '__getstate__' of 'object' objects>\n",
      "param: <slot wrapper '__gt__' of 'object' objects>\n",
      "param: <slot wrapper '__hash__' of 'object' objects>\n",
      "param: <function DummyDriver.__init__ at 0x107dd9940>\n",
      "param: <built-in method __init_subclass__ of ABCMeta object at 0x111008550>\n",
      "param: <slot wrapper '__le__' of 'object' objects>\n",
      "param: <slot wrapper '__lt__' of 'object' objects>\n",
      "param: dummies.dummy_instruments\n",
      "param: <slot wrapper '__ne__' of 'object' objects>\n",
      "param: <built-in method __new__ of type object at 0x104dcfcf0>\n",
      "param: <method '__reduce__' of 'object' objects>\n",
      "param: <method '__reduce_ex__' of 'object' objects>\n",
      "param: <slot wrapper '__repr__' of 'object' objects>\n",
      "param: <slot wrapper '__setattr__' of 'object' objects>\n",
      "param: <method '__sizeof__' of 'object' objects>\n",
      "param: ()\n",
      "param: <slot wrapper '__str__' of 'object' objects>\n",
      "param: <built-in method __subclasshook__ of ABCMeta object at 0x111008550>\n",
      "param: <attribute '__weakref__' of 'DeviceDriver' objects>\n",
      "param: <_abc._abc_data object at 0x107def500>\n",
      "param: <function DummyDriver.close at 0x107dda020>\n",
      "param: None\n",
      "param: None\n",
      "param: None\n",
      "param: <pqnstack.base.driver.Parameter object at 0x107df0290>\n",
      "param: <pqnstack.base.driver.Parameter object at 0x107df01d0>\n",
      "param: <pqnstack.base.driver.Parameter object at 0x107df0230>\n",
      "param: <function DummyDriver.exec at 0x107dd9ee0>\n",
      "param: None\n",
      "param: <function DeviceDriver.get_all_params_names at 0x107dd94e0>\n",
      "param: <function DummyDriver.info at 0x107dd9f80>\n",
      "param: None\n",
      "param: None\n",
      "param: None\n",
      "param: <function DummyDriver.setup at 0x107dd99e0>\n",
      "param: None\n"
     ]
    },
    {
     "data": {
      "text/plain": [
       "['dummy_bool', 'dummy_int', 'dummy_str']"
      ]
     },
     "execution_count": 12,
     "metadata": {},
     "output_type": "execute_result"
    }
   ],
   "source": [
    "dummy.get_all_params_names()"
   ]
  },
  {
   "cell_type": "code",
   "execution_count": 13,
   "id": "4bcac659-827a-46d3-8528-936cb98d0654",
   "metadata": {},
   "outputs": [
    {
     "data": {
      "text/plain": [
       "'False'"
      ]
     },
     "execution_count": 13,
     "metadata": {},
     "output_type": "execute_result"
    }
   ],
   "source": [
    "dummy.dummy_bool"
   ]
  },
  {
   "cell_type": "code",
   "execution_count": null,
   "id": "6a44187d-8dae-4283-918c-eaeb1dd88f84",
   "metadata": {},
   "outputs": [],
   "source": []
  },
  {
   "cell_type": "code",
   "execution_count": null,
   "id": "58a946f0-c977-41be-ba86-b8b07fb22a98",
   "metadata": {},
   "outputs": [],
   "source": []
  },
  {
   "cell_type": "code",
   "execution_count": null,
   "id": "6c38f51b-cf94-49c7-a032-2c4c8f5ea531",
   "metadata": {},
   "outputs": [],
   "source": []
  },
  {
   "cell_type": "code",
   "execution_count": null,
   "id": "60ca85ec-6939-439b-b0ec-dedc9e11bead",
   "metadata": {},
   "outputs": [],
   "source": []
  },
  {
   "cell_type": "code",
   "execution_count": null,
   "id": "84e25af2-5dcb-44d2-905a-8a48a468ca2b",
   "metadata": {},
   "outputs": [],
   "source": []
  },
  {
   "cell_type": "code",
   "execution_count": null,
   "id": "6344a3f3-b45e-442f-a519-5932942c6d79",
   "metadata": {},
   "outputs": [],
   "source": []
  },
  {
   "cell_type": "code",
   "execution_count": null,
   "id": "93b737f6-6cc0-4a66-a26e-a430369764e1",
   "metadata": {},
   "outputs": [],
   "source": []
  },
  {
   "cell_type": "code",
   "execution_count": null,
   "id": "81ba580f-9456-4ef9-97c3-9d30edbdccea",
   "metadata": {},
   "outputs": [],
   "source": []
  },
  {
   "cell_type": "code",
   "execution_count": null,
   "id": "09dd4007-ee4c-4ff4-81dd-1742e0cf6405",
   "metadata": {},
   "outputs": [],
   "source": []
  },
  {
   "cell_type": "code",
   "execution_count": null,
   "id": "28039bf1-7de9-4830-b626-fcf96dca7d89",
   "metadata": {},
   "outputs": [],
   "source": []
  },
  {
   "cell_type": "code",
   "execution_count": null,
   "id": "393d6c39-6841-4a40-92b7-d382f07e86d6",
   "metadata": {},
   "outputs": [],
   "source": []
  },
  {
   "cell_type": "code",
   "execution_count": null,
   "id": "085e5a82-6bca-4907-b682-80472b882e75",
   "metadata": {},
   "outputs": [],
   "source": []
  },
  {
   "cell_type": "code",
   "execution_count": null,
   "id": "e0ef543b-2df1-466e-a1b9-03b8027ad8d2",
   "metadata": {},
   "outputs": [],
   "source": []
  }
 ],
 "metadata": {
  "kernelspec": {
   "display_name": "Python 3 (ipykernel)",
   "language": "python",
   "name": "python3"
  },
  "language_info": {
   "codemirror_mode": {
    "name": "ipython",
    "version": 3
   },
   "file_extension": ".py",
   "mimetype": "text/x-python",
   "name": "python",
   "nbconvert_exporter": "python",
   "pygments_lexer": "ipython3",
   "version": "3.12.5"
  }
 },
 "nbformat": 4,
 "nbformat_minor": 5
}
